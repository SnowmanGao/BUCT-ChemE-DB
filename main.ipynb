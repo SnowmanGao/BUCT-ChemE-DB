{
 "cells": [
  {
   "cell_type": "code",
   "outputs": [],
   "source": [
    "from core import *"
   ],
   "metadata": {
    "collapsed": false,
    "ExecuteTime": {
     "end_time": "2024-06-17T08:37:45.347838700Z",
     "start_time": "2024-06-17T08:37:45.324228400Z"
    }
   },
   "id": "4d36d8948438b7b6",
   "execution_count": 1
  },
  {
   "cell_type": "markdown",
   "source": [
    "### 一次性从文件夹中导入多个 JSON 文件"
   ],
   "metadata": {
    "collapsed": false
   },
   "id": "f78daa3d899d9985"
  },
  {
   "cell_type": "code",
   "outputs": [],
   "source": [
    "def multi_import(folder_path):\n",
    "    with FullList(folder_path) as fps:\n",
    "        for fp in fps:\n",
    "            Importer.from_json_file(fp)\n",
    "\n",
    "# multi_import(\"./input\")"
   ],
   "metadata": {
    "collapsed": false,
    "ExecuteTime": {
     "end_time": "2024-06-17T08:37:45.353426600Z",
     "start_time": "2024-06-17T08:37:45.344737100Z"
    }
   },
   "id": "e95c59d28b8850c4",
   "execution_count": 2
  },
  {
   "cell_type": "markdown",
   "source": [
    "### 导出单个文件或多个文件生成 Excel Data"
   ],
   "metadata": {
    "collapsed": false
   },
   "id": "2514980de2e93231"
  },
  {
   "cell_type": "code",
   "outputs": [
    {
     "name": "stdout",
     "output_type": "stream",
     "text": [
      "[log] 已完成 5-2 管内流动阻力-第1关 的数据处理\n",
      "[log] 已完成 5-2 管内流动阻力-第2关 的数据处理\n",
      "[log] 已完成 5-2 管内流动阻力-第3关 的数据处理\n",
      "[log] 已完成 5-2 管内流动阻力-第4关 的数据处理\n",
      "[log] 已完成 5-2 管内流动阻力-第5关 的数据处理\n",
      "[log] 已完成 离心泵（1）- 第1关 的数据处理\n",
      "[log] 已完成 离心泵（1）- 第2关 的数据处理\n",
      "[log] 已完成 离心泵（1）- 第3关 的数据处理\n",
      "[log] 已完成 离心泵（1）- 第4关 的数据处理\n",
      "[log] 已完成 6-1 离心泵（1）- 第5关 的数据处理\n",
      "[log] 已完成 6-1 离心泵（1）- 第6关 的数据处理\n",
      "[log] 已完成 6-1 离心泵（1）- 第7关 的数据处理\n",
      "[log] 已完成 6-1 离心泵（2）- 第1关 的数据处理\n",
      "[log] 已完成 6-1 离心泵（2）- 第2关 的数据处理\n",
      "[log] 已完成 6-1 离心泵（2）- 第3关 的数据处理\n",
      "[log] 已完成 6-2 其它类型泵-第1关 的数据处理\n",
      "[log] 已完成 6-2 其它类型泵-第2关 的数据处理\n",
      "[log] 已完成 6-2 其它类型泵-第3关 的数据处理\n",
      "[log] 已完成 6-2 其它类型泵-第4关 的数据处理\n",
      "[log] 已完成 6-3 气体输送设备-第1关 的数据处理\n",
      "[log] 已完成 6-3 气体输送设备-第2关 的数据处理\n",
      "[log] 已完成 6-3 气体输送设备-第3关 的数据处理\n",
      "[log] 已完成 6-4 流体输送问题的解决-第1关 的数据处理\n",
      "[log] 已完成 6-4 流体输送问题的解决-第2关 的数据处理\n",
      "[log] 已完成 6-4 流体输送问题的解决-第3关 的数据处理\n",
      "[log] 已完成 6-4 流体输送问题的解决-第4关 的数据处理\n",
      "[log] 已完成 6-5 流量测量-第1关 的数据处理\n",
      "[log] 已完成 6-5 流量测量-第2关 的数据处理\n",
      "[log] 已完成 6-5 流量测量-第3关 的数据处理\n",
      "[log] 已完成 7-1 颗粒与流体的相对运动-第1关 的数据处理\n",
      "[log] 已完成 7-1 颗粒与流体的相对运动-第2关 的数据处理\n",
      "[log] 已完成 7-1 颗粒与流体的相对运动-第3关 的数据处理\n",
      "[log] 已完成 7-1 颗粒与流体的相对运动-第4关 的数据处理\n",
      "[log] 已完成 7-2 沉降-第1关 的数据处理\n",
      "[log] 已完成 7-2 沉降-第2关 的数据处理\n",
      "[log] 已完成 7-2 沉降-第3关 的数据处理\n",
      "[log] 已完成 7-3 过滤（1）- 第1关 的数据处理\n",
      "[log] 已完成 7-3 过滤（1）- 第2关 的数据处理\n",
      "[log] 已完成 7-3 过滤（1）- 第3关 的数据处理\n",
      "[log] 已完成 7-3 过滤（1）- 第4关 的数据处理\n",
      "[log] 已完成 7-3 过滤（1）- 第5关 的数据处理\n",
      "[log] 已完成 衡算式分析和讨论-第1关 的数据处理\n",
      "[log] 已完成 衡算式分析和讨论-第2关 的数据处理\n",
      "[log] 已完成 衡算式分析和讨论-第3关 的数据处理\n",
      "[log] 已完成 衡算式分析和讨论-第4关 的数据处理\n",
      "[log] 已完成 衡算式分析和讨论-第5关 的数据处理\n"
     ]
    }
   ],
   "source": [
    "def single_export(archive_file):\n",
    "    with open(archive_file, 'r') as fp:\n",
    "        with open('./output/data_for_excel.json', 'w') as fp2:\n",
    "            ExcelExporter.export(fp, fp2)\n",
    "\n",
    "\n",
    "def multi_export():\n",
    "    with FullList(\"./archive\") as fps:\n",
    "        with open('./output/data_for_excel.json', 'w') as fp:\n",
    "            ExcelExporter.export_many(fps, fp)\n",
    "\n",
    "# single_export('./data/7-2 沉降-第1关.json')\n",
    "multi_export()"
   ],
   "metadata": {
    "collapsed": false,
    "ExecuteTime": {
     "end_time": "2024-06-17T08:37:45.430539100Z",
     "start_time": "2024-06-17T08:37:45.352424100Z"
    }
   },
   "id": "a4cb3381172ee286",
   "execution_count": 3
  }
 ],
 "metadata": {
  "kernelspec": {
   "display_name": "Python 3",
   "language": "python",
   "name": "python3"
  },
  "language_info": {
   "codemirror_mode": {
    "name": "ipython",
    "version": 2
   },
   "file_extension": ".py",
   "mimetype": "text/x-python",
   "name": "python",
   "nbconvert_exporter": "python",
   "pygments_lexer": "ipython2",
   "version": "2.7.6"
  }
 },
 "nbformat": 4,
 "nbformat_minor": 5
}
