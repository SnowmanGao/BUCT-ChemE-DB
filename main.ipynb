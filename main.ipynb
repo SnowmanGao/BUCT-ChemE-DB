{
 "cells": [
  {
   "cell_type": "code",
   "outputs": [],
   "source": [
    "from core import *"
   ],
   "metadata": {
    "collapsed": false,
    "ExecuteTime": {
     "end_time": "2024-06-24T11:14:55.217733800Z",
     "start_time": "2024-06-24T11:14:55.194606300Z"
    }
   },
   "id": "4d36d8948438b7b6",
   "execution_count": 1
  },
  {
   "cell_type": "markdown",
   "source": [
    "### 从文件夹中导入多个 JSON 题目数据"
   ],
   "metadata": {
    "collapsed": false
   },
   "id": "f78daa3d899d9985"
  },
  {
   "cell_type": "code",
   "outputs": [],
   "source": [
    "def multi_import_json(folder_path):\n",
    "    with FullList(folder_path) as fps:\n",
    "        for fp in fps:\n",
    "            Importer.from_json_file(fp)\n",
    "\n",
    "# multi_import_json(\"./input\")"
   ],
   "metadata": {
    "collapsed": false,
    "ExecuteTime": {
     "end_time": "2024-06-24T11:14:55.218744800Z",
     "start_time": "2024-06-24T11:14:55.211628500Z"
    }
   },
   "id": "e95c59d28b8850c4",
   "execution_count": 2
  },
  {
   "cell_type": "markdown",
   "source": [
    "### 从数据集生成 Excel Data"
   ],
   "metadata": {
    "collapsed": false
   },
   "id": "2514980de2e93231"
  },
  {
   "cell_type": "code",
   "outputs": [],
   "source": [
    "def single_export_excel(archive_file):\n",
    "    with open(archive_file, 'r') as fp:\n",
    "        with open('./output/data_for_excel.json', 'w') as fp2:\n",
    "            ExcelExporter.export(fp, fp2)\n",
    "\n",
    "\n",
    "def multi_export_excel(folder_path):\n",
    "    with FullList(folder_path) as fps:\n",
    "        with open('./output/data_for_excel.json', 'w') as fp:\n",
    "            ExcelExporter.export_many(fps, fp)\n",
    "\n",
    "# single_export_excel('./archive/questions/7-2 沉降-第1关.json')\n",
    "# multi_export_excel('./archive/questions')"
   ],
   "metadata": {
    "collapsed": false,
    "ExecuteTime": {
     "end_time": "2024-06-24T11:14:55.220744200Z",
     "start_time": "2024-06-24T11:14:55.217733800Z"
    }
   },
   "id": "a4cb3381172ee286",
   "execution_count": 3
  },
  {
   "cell_type": "markdown",
   "source": [
    "### 从数据集生成 Markdown 文档"
   ],
   "metadata": {
    "collapsed": false
   },
   "id": "a750f0e2be1aa26"
  },
  {
   "cell_type": "code",
   "outputs": [
    {
     "name": "stdout",
     "output_type": "stream",
     "text": [
      "[Info] 已导出去重后的题目到 ./output/dedupe_data.json\n",
      "[log] 已完成对 47 个文件的 Markdown 导出\n"
     ]
    }
   ],
   "source": [
    "def multi_export_md(folder_path):\n",
    "    with WhiteList(folder_path, '5-1') as fps:\n",
    "        with open('./output/markdown.md', 'w') as fp:\n",
    "            MarkdownExporter.export_many(fps, fp)\n",
    "\n",
    "\n",
    "def export_dedupe_md():\n",
    "    DataWasher.export_dedupe_data('./archive/questions', './output/dedupe_data.json')\n",
    "    with open('./output/dedupe_data.json', 'r') as fp:\n",
    "        objs = json_load(fp)\n",
    "    with open('./output/markdown.md', 'w') as fp:\n",
    "        MarkdownExporter.export_many_objs(objs, fp)\n",
    "\n",
    "# multi_export_md('./archive/questions')\n",
    "export_dedupe_md()"
   ],
   "metadata": {
    "collapsed": false,
    "ExecuteTime": {
     "end_time": "2024-06-24T11:14:55.285086300Z",
     "start_time": "2024-06-24T11:14:55.220744200Z"
    }
   },
   "id": "921d14aaeb1c7b16",
   "execution_count": 4
  }
 ],
 "metadata": {
  "kernelspec": {
   "display_name": "Python 3",
   "language": "python",
   "name": "python3"
  },
  "language_info": {
   "codemirror_mode": {
    "name": "ipython",
    "version": 2
   },
   "file_extension": ".py",
   "mimetype": "text/x-python",
   "name": "python",
   "nbconvert_exporter": "python",
   "pygments_lexer": "ipython2",
   "version": "2.7.6"
  }
 },
 "nbformat": 4,
 "nbformat_minor": 5
}
