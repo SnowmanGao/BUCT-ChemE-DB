{
 "cells": [
  {
   "cell_type": "code",
   "outputs": [],
   "source": [
    "from core import inserter, get_date_str"
   ],
   "metadata": {
    "collapsed": false
   },
   "id": "2957fa834fd70eb",
   "execution_count": null
  },
  {
   "cell_type": "code",
   "outputs": [],
   "source": [
    "VER = f\"ver {get_date_str(compat=True)}\"\n",
    "\n",
    "with open(\"../output/markdown.html\") as fp:\n",
    "    text = fp.read()\n",
    "\n",
    "#1\n",
    "text = inserter(\n",
    "    text,\n",
    "    '    font-weight: 600;\\n',\n",
    "    'h1 {\\n    padding-bottom: .4rem;\\n    font-size: 2.2rem;\\n    line-height: 1.3;\\n',\n",
    "    '}'\n",
    ")\n",
    "\n",
    "#2\n",
    "text = inserter(\n",
    "    text,\n",
    "    '    font-weight: 200;\\n',\n",
    "    '#write p {\\n    line-height: 1.6rem;\\n    word-spacing: .05rem;\\n',\n",
    "    '}'\n",
    ")\n",
    "\n",
    "#3\n",
    "text = inserter(\n",
    "    text,\n",
    "    '    font-weight: 400;\\n',\n",
    "    'h4 {\\n    font-size: 1.2rem;\\n',\n",
    "    '}'\n",
    ")\n",
    "\n",
    "#4\n",
    "text = inserter(\n",
    "    text,\n",
    "    '',\n",
    "    '--font-sans-serif:',\n",
    "    ' sans-serif !important;'\n",
    ")\n",
    "\n",
    "with open(\"../output/markdown-modified.html\", \"w\") as fp:\n",
    "    fp.write(text)\n",
    "    print(\"Done to ../output/markdown-modified.html\")"
   ],
   "metadata": {
    "collapsed": false
   },
   "id": "13dda288935cc1ef",
   "execution_count": null
  }
 ],
 "metadata": {
  "kernelspec": {
   "display_name": "Python 3",
   "language": "python",
   "name": "python3"
  },
  "language_info": {
   "codemirror_mode": {
    "name": "ipython",
    "version": 2
   },
   "file_extension": ".py",
   "mimetype": "text/x-python",
   "name": "python",
   "nbconvert_exporter": "python",
   "pygments_lexer": "ipython2",
   "version": "2.7.6"
  }
 },
 "nbformat": 4,
 "nbformat_minor": 5
}
