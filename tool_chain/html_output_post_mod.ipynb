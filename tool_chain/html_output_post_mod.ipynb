{
 "cells": [
  {
   "cell_type": "code",
   "outputs": [],
   "source": [
    "from core import inserter, get_date_str\n",
    "import os"
   ],
   "metadata": {
    "collapsed": false
   },
   "id": "2957fa834fd70eb",
   "execution_count": null
  },
  {
   "cell_type": "code",
   "outputs": [],
   "source": [
    "def post_process_html():\n",
    "    ver = f'ver {get_date_str(compat=True)}'\n",
    "\n",
    "    if not os.path.exists('../output/markdown.html'):\n",
    "        print('未找到 ../output/markdown.html 的 HTML文件 ×')\n",
    "        return\n",
    "\n",
    "    with open('../output/markdown.html') as fp:\n",
    "        text = fp.read()\n",
    "    # 1\n",
    "    text = inserter(\n",
    "        text,\n",
    "        '    font-weight: 600;\\n',\n",
    "        'h1 {\\n    padding-bottom: .4rem;\\n    font-size: 2.2rem;\\n    line-height: 1.3;\\n',\n",
    "        '}'\n",
    "    )\n",
    "\n",
    "    # 2\n",
    "    text = inserter(\n",
    "        text,\n",
    "        '    font-weight: 200;\\n',\n",
    "        '#write p {\\n    line-height: 1.6rem;\\n    word-spacing: .05rem;\\n',\n",
    "        '}'\n",
    "    )\n",
    "\n",
    "    # 3\n",
    "    text = inserter(\n",
    "        text,\n",
    "        '    font-weight: 400;\\n',\n",
    "        'h4 {\\n    font-size: 1.2rem;\\n',\n",
    "        '}'\n",
    "    )\n",
    "\n",
    "    # 4\n",
    "    text = inserter(\n",
    "        text,\n",
    "        '',\n",
    "        '--font-sans-serif:',\n",
    "        ' sans-serif !important;'\n",
    "    )\n",
    "\n",
    "    # 5\n",
    "    text = inserter(\n",
    "        text,\n",
    "        \"<span style='color: #fafafa;font-size: 8px;'>挂科 =def= GPA &lt; 4.0</span>\",\n",
    "        \"<span>其他三种说法都不对</span>\",\n",
    "        \"</p></li><li class='md-task-list-item task-list-item task-list-not-done' ><input type='checkbox' /><p><span>层流和完全湍流时无关\"\n",
    "    )\n",
    "\n",
    "    # 6\n",
    "    text = inserter(\n",
    "        text,\n",
    "        f\"<span style='color: #fafafa;font-size: 8px;'>Snowman Gao Generated.(BUCT {ver})</span>\",\n",
    "        \"范宁公式</span></p></li><li class='md-task-list-item task-list-item task-list-not-done' ><input type='checkbox' /><p><span>Poiseuille方程</span>\",\n",
    "        \"</p></li><li class='md-task-list-item task-list-item task-list-not-done' ><input type='checkbox' /><p><span>Ergun方程\"\n",
    "    )\n",
    "\n",
    "    with open('../output/markdown-watermarked.html', 'w') as fp:\n",
    "        fp.write(text)\n",
    "        print('已完成对 ../output/markdown-watermarked.html 的 HTML 后处理')"
   ],
   "metadata": {
    "collapsed": false
   },
   "id": "13dda288935cc1ef",
   "execution_count": null
  },
  {
   "cell_type": "code",
   "outputs": [],
   "source": [
    "# Usage\n",
    "\n",
    "post_process_html()"
   ],
   "metadata": {
    "collapsed": false
   },
   "id": "47a97ca3644d36f5",
   "execution_count": null
  }
 ],
 "metadata": {
  "kernelspec": {
   "display_name": "Python 3",
   "language": "python",
   "name": "python3"
  },
  "language_info": {
   "codemirror_mode": {
    "name": "ipython",
    "version": 2
   },
   "file_extension": ".py",
   "mimetype": "text/x-python",
   "name": "python",
   "nbconvert_exporter": "python",
   "pygments_lexer": "ipython2",
   "version": "2.7.6"
  }
 },
 "nbformat": 4,
 "nbformat_minor": 5
}
