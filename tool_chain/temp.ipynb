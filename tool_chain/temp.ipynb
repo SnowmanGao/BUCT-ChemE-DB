{
 "cells": [
  {
   "cell_type": "code",
   "execution_count": 12,
   "id": "initial_id",
   "metadata": {
    "collapsed": true,
    "ExecuteTime": {
     "end_time": "2024-06-18T10:28:56.045094100Z",
     "start_time": "2024-06-18T10:28:56.040619500Z"
    }
   },
   "outputs": [],
   "source": [
    "import time\n",
    "\n",
    "from core import *\n",
    "from urllib.request import urlretrieve\n",
    "import re"
   ]
  },
  {
   "cell_type": "code",
   "outputs": [],
   "source": [
    "\n",
    "res = []\n",
    "with FullList('../archive/questions') as fps:\n",
    "    for fp in fps:\n",
    "        doc = fp.read()\n",
    "        res.extend(re.findall(r'<img.*?id=([A-Z]+).*?title=\\\\\\\"(.*?)\\\\\\\".*?/>', doc))\n",
    "for i in res:\n",
    "    url = f'https://course.buct.edu.cn/meol/common/ckeditor/openfile.jsp?id={i[0]}'\n",
    "    if not os.path.exists(f'../archive/cached_pics/{i[0]}'):\n",
    "        os.mkdir(f'../archive/cached_pics/{i[0]}')\n",
    "    print(f'Downloading {i[1]}...')\n",
    "    urlretrieve(url, f'../archive/cached_pics/{i[0]}/{i[1]}')\n",
    "    time.sleep(1)"
   ],
   "metadata": {
    "collapsed": false,
    "ExecuteTime": {
     "end_time": "2024-06-18T10:30:25.062321100Z",
     "start_time": "2024-06-18T10:28:56.045094100Z"
    }
   },
   "id": "f74bfe370f78b45f",
   "execution_count": 13
  }
 ],
 "metadata": {
  "kernelspec": {
   "display_name": "Python 3",
   "language": "python",
   "name": "python3"
  },
  "language_info": {
   "codemirror_mode": {
    "name": "ipython",
    "version": 2
   },
   "file_extension": ".py",
   "mimetype": "text/x-python",
   "name": "python",
   "nbconvert_exporter": "python",
   "pygments_lexer": "ipython2",
   "version": "2.7.6"
  }
 },
 "nbformat": 4,
 "nbformat_minor": 5
}
