{
 "cells": [
  {
   "cell_type": "code",
   "execution_count": null,
   "id": "initial_id",
   "metadata": {
    "collapsed": true
   },
   "outputs": [],
   "source": [
    "import time\n",
    "\n",
    "from core import *\n",
    "from urllib.request import urlretrieve\n",
    "import re"
   ]
  },
  {
   "cell_type": "code",
   "outputs": [],
   "source": [
    "\n",
    "res = []\n",
    "with FullList('../archive/questions') as fps:\n",
    "    for fp in fps:\n",
    "        doc = fp.read()\n",
    "        res.extend(re.findall(r'<img.*?id=([A-Z]+).*?title=\\\\\\\"(.*?)\\\\\\\".*?/>', doc))\n",
    "for i in res:\n",
    "    url = f'***************************************************?id={i[0]}'\n",
    "    if not os.path.exists(f'../archive/cached_pics/{i[0]}'):\n",
    "        os.mkdir(f'../archive/cached_pics/{i[0]}')\n",
    "    print(f'Downloading {i[1]}...')\n",
    "    urlretrieve(url, f'../archive/cached_pics/{i[0]}/{i[1]}')\n",
    "    time.sleep(1)"
   ],
   "metadata": {
    "collapsed": false
   },
   "id": "f74bfe370f78b45f",
   "execution_count": null
  }
 ],
 "metadata": {
  "kernelspec": {
   "display_name": "Python 3",
   "language": "python",
   "name": "python3"
  },
  "language_info": {
   "codemirror_mode": {
    "name": "ipython",
    "version": 2
   },
   "file_extension": ".py",
   "mimetype": "text/x-python",
   "name": "python",
   "nbconvert_exporter": "python",
   "pygments_lexer": "ipython2",
   "version": "2.7.6"
  }
 },
 "nbformat": 4,
 "nbformat_minor": 5
}
