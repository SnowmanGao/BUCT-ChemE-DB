{
 "cells": [
  {
   "cell_type": "markdown",
   "source": [
    "# 用于从 Excel 中读取题解"
   ],
   "metadata": {
    "collapsed": false
   },
   "id": "6170acf761b503e4"
  },
  {
   "cell_type": "code",
   "execution_count": 1,
   "id": "initial_id",
   "metadata": {
    "collapsed": true,
    "ExecuteTime": {
     "end_time": "2024-06-19T02:26:27.696285300Z",
     "start_time": "2024-06-19T02:26:27.019453200Z"
    }
   },
   "outputs": [],
   "source": [
    "from core import *\n",
    "import pandas as pd"
   ]
  },
  {
   "cell_type": "code",
   "outputs": [
    {
     "name": "stdout",
     "output_type": "stream",
     "text": [
      "[Log] 从表格中共找到 591 条题解\n",
      "[Log] 已跳过 5-1 衡算式分析和讨论-第1关 的题解 ×\n",
      "[Log] 已跳过 5-1 衡算式分析和讨论-第2关 的题解 ×\n",
      "[Log] 已跳过 5-1 衡算式分析和讨论-第3关 的题解 ×\n",
      "[Log] 已跳过 5-1 衡算式分析和讨论-第4关 的题解 ×\n",
      "[Log] 已跳过 5-1 衡算式分析和讨论-第5关 的题解 ×\n",
      "[Log] 已跳过 5-2 管内流动阻力-第1关 的题解 ×\n",
      "[Log] 已跳过 5-2 管内流动阻力-第2关 的题解 ×\n",
      "[Log] 已跳过 5-2 管内流动阻力-第3关 的题解 ×\n",
      "[Log] 已跳过 5-2 管内流动阻力-第4关 的题解 ×\n",
      "[Log] 已跳过 5-2 管内流动阻力-第5关 的题解 ×\n",
      "[Log] 已跳过 6-1 离心泵（1）- 第1关 的题解 ×\n",
      "[Log] 已跳过 6-1 离心泵（1）- 第2关 的题解 ×\n",
      "[Log] 已跳过 6-1 离心泵（1）- 第3关 的题解 ×\n",
      "[Log] 已跳过 6-1 离心泵（1）- 第4关 的题解 ×\n",
      "[Log] 已跳过 6-1 离心泵（1）- 第5关 的题解 ×\n",
      "[Log] 已跳过 6-1 离心泵（1）- 第6关 的题解 ×\n",
      "[Log] 已跳过 6-1 离心泵（1）- 第7关 的题解 ×\n",
      "[Log] 已跳过 6-1 离心泵（2）- 第1关 的题解 ×\n",
      "[Log] 已跳过 6-1 离心泵（2）- 第2关 的题解 ×\n",
      "[Log] 已跳过 6-1 离心泵（2）- 第3关 的题解 ×\n",
      "[Log] 已跳过 6-2 其它类型泵-第1关 的题解 ×\n",
      "[Log] 已跳过 6-2 其它类型泵-第2关 的题解 ×\n",
      "[Log] 已跳过 6-2 其它类型泵-第3关 的题解 ×\n",
      "[Log] 已跳过 6-2 其它类型泵-第4关 的题解 ×\n",
      "[Log] 已跳过 6-3 气体输送设备-第1关 的题解 ×\n",
      "[Log] 已跳过 6-3 气体输送设备-第2关 的题解 ×\n",
      "[Log] 已跳过 6-3 气体输送设备-第3关 的题解 ×\n",
      "[Log] 已跳过 6-4 流体输送问题的解决-第1关 的题解 ×\n",
      "[Log] 已跳过 6-4 流体输送问题的解决-第2关 的题解 ×\n",
      "[Log] 已跳过 6-4 流体输送问题的解决-第3关 的题解 ×\n",
      "[Log] 已跳过 6-4 流体输送问题的解决-第4关 的题解 ×\n",
      "[Log] 已覆盖 6-5 流量测量-第1关 的题解 √\n",
      "[Log] 已覆盖 6-5 流量测量-第2关 的题解 √\n",
      "[Warn] 章节 6-5 流量测量-第3关 没有题解！\n",
      "[Warn] 章节 7-1 颗粒与流体的相对运动-第1关 没有题解！\n",
      "[Log] 已跳过 7-1 颗粒与流体的相对运动-第2关 的题解 ×\n",
      "[Log] 已跳过 7-1 颗粒与流体的相对运动-第3关 的题解 ×\n",
      "[Warn] 章节 7-1 颗粒与流体的相对运动-第4关 没有题解！\n",
      "[Warn] 章节 7-2 沉降-第1关 没有题解！\n",
      "[Log] 已跳过 7-2 沉降-第2关 的题解 ×\n",
      "[Log] 已跳过 7-2 沉降-第3关 的题解 ×\n",
      "[Log] 已跳过 7-3 过滤（1）- 第1关 的题解 ×\n",
      "[Log] 已跳过 7-3 过滤（1）- 第2关 的题解 ×\n",
      "[Warn] 章节 7-3 过滤（1）- 第3关 没有题解！\n",
      "[Warn] 章节 7-3 过滤（1）- 第4关 没有题解！\n",
      "[Warn] 章节 7-3 过滤（1）- 第5关 没有题解！\n",
      "[Warn] 章节 Example Question Data of *The Archive* 没有题解！\n"
     ]
    }
   ],
   "source": [
    "frame = pd.read_excel('./solutions.xlsx', na_values=\"无\")\n",
    "frame.dropna(inplace=True)\n",
    "\n",
    "\n",
    "def read_solutions_for_parts() -> dict[str, dict[str, str]]:\n",
    "    cnt = 0\n",
    "    res = {}\n",
    "    for index, row in frame.iterrows():\n",
    "        cnt += 1\n",
    "        part = row.iloc[0]\n",
    "        desc = row.iloc[1]\n",
    "        solution = row.iloc[4]\n",
    "        res.setdefault(part, dict())[desc] = solution\n",
    "    print(f\"[Log] 从表格中共找到 {cnt} 条题解\")\n",
    "    return res\n",
    "\n",
    "\n",
    "sols = read_solutions_for_parts()\n",
    "with FullList('../archive/questions', 'r+') as fps:\n",
    "    for fp in fps:\n",
    "        obj: ArchiveModel = json.load(fp)\n",
    "        part = obj[\"part\"]\n",
    "\n",
    "        if part not in sols:\n",
    "            print(f\"[Warn] 章节 {part} 没有题解！\")\n",
    "            continue\n",
    "\n",
    "        for q in obj[\"questions\"]:\n",
    "            desc = ExcelExporter.desc_modifier(q[\"desc\"])\n",
    "            if desc in sols[part]:\n",
    "                q[\"solution\"] = sols[part][desc]\n",
    "\n",
    "        if input(f\"是否覆盖 {part} 的题解？(y/n)\") == 'y':\n",
    "            json_overwrite(obj, fp)\n",
    "            print(f\"[Log] 已覆盖 {part} 的题解 √\")\n",
    "        else:\n",
    "            print(f\"[Log] 已跳过 {part} 的题解 ×\")\n",
    "        "
   ],
   "metadata": {
    "collapsed": false,
    "ExecuteTime": {
     "end_time": "2024-06-19T02:26:56.715048500Z",
     "start_time": "2024-06-19T02:26:27.693284400Z"
    }
   },
   "id": "9a75869a6b4ab363",
   "execution_count": 2
  }
 ],
 "metadata": {
  "kernelspec": {
   "display_name": "Python 3",
   "language": "python",
   "name": "python3"
  },
  "language_info": {
   "codemirror_mode": {
    "name": "ipython",
    "version": 2
   },
   "file_extension": ".py",
   "mimetype": "text/x-python",
   "name": "python",
   "nbconvert_exporter": "python",
   "pygments_lexer": "ipython2",
   "version": "2.7.6"
  }
 },
 "nbformat": 4,
 "nbformat_minor": 5
}
